{
 "cells": [
  {
   "cell_type": "markdown",
   "id": "78759d03-faf5-4247-be49-b3dc8bb84d8d",
   "metadata": {},
   "source": [
    "**Basic repersentaion**"
   ]
  },
  {
   "cell_type": "markdown",
   "id": "e82651cb-d53c-4b50-8be7-8613dc04fa30",
   "metadata": {},
   "source": [
    "- list are in square brackets"
   ]
  },
  {
   "cell_type": "code",
   "execution_count": 1,
   "id": "cc5594dc-2dbb-459b-8a62-d809403ff1f2",
   "metadata": {},
   "outputs": [
    {
     "data": {
      "text/plain": [
       "[1, 2, 3, 4]"
      ]
     },
     "execution_count": 1,
     "metadata": {},
     "output_type": "execute_result"
    }
   ],
   "source": [
    "list1 = [1,2,3,4]\n",
    "list1"
   ]
  },
  {
   "cell_type": "code",
   "execution_count": 2,
   "id": "f2f45c2b-6269-44fa-b47d-1cc76f7a51a1",
   "metadata": {},
   "outputs": [
    {
     "data": {
      "text/plain": [
       "list"
      ]
     },
     "execution_count": 2,
     "metadata": {},
     "output_type": "execute_result"
    }
   ],
   "source": [
    "type(list1)"
   ]
  },
  {
   "cell_type": "code",
   "execution_count": 3,
   "id": "ba4efd5c-82ae-4410-8ed1-99fd393cf486",
   "metadata": {},
   "outputs": [
    {
     "data": {
      "text/plain": [
       "[1, 'A', 2, 'B']"
      ]
     },
     "execution_count": 3,
     "metadata": {},
     "output_type": "execute_result"
    }
   ],
   "source": [
    "list2 = [1,'A',2,'B']\n",
    "list2"
   ]
  },
  {
   "cell_type": "code",
   "execution_count": 4,
   "id": "4e5bf13c-e76a-4c80-8a8b-b82b24f158e9",
   "metadata": {},
   "outputs": [
    {
     "data": {
      "text/plain": [
       "[1, 'A', 2.2, (5+6j), True]"
      ]
     },
     "execution_count": 4,
     "metadata": {},
     "output_type": "execute_result"
    }
   ],
   "source": [
    "list4 = [1,'A',2.2,5+6j,True]\n",
    "list4"
   ]
  },
  {
   "cell_type": "code",
   "execution_count": 7,
   "id": "e7b0bec6-577e-4d49-86ab-b419701471c7",
   "metadata": {},
   "outputs": [
    {
     "data": {
      "text/plain": [
       "[10, 10, 10, [10, 10, 10, [10, 10, 10]]]"
      ]
     },
     "execution_count": 7,
     "metadata": {},
     "output_type": "execute_result"
    }
   ],
   "source": [
    "l1=[10,10,10,_]\n",
    "l1"
   ]
  },
  {
   "cell_type": "code",
   "execution_count": 8,
   "id": "62bb38da-01dd-45f7-b5de-016b7945db6c",
   "metadata": {},
   "outputs": [],
   "source": [
    "list1 = [10,20,2,5,75]\n",
    "list2=['Apple', 'Banana','cherry','banana']\n",
    "list3=[10,20,2,5,75,'Apple','Cherry','cherry']\n"
   ]
  },
  {
   "cell_type": "code",
   "execution_count": 9,
   "id": "5b6759f7-0e0d-4134-8d26-598e30ec9a98",
   "metadata": {},
   "outputs": [
    {
     "data": {
      "text/plain": [
       "8"
      ]
     },
     "execution_count": 9,
     "metadata": {},
     "output_type": "execute_result"
    }
   ],
   "source": [
    "len(list3)"
   ]
  },
  {
   "cell_type": "code",
   "execution_count": 10,
   "id": "728c7761-3df5-4b07-81c3-ae0e6b23eb23",
   "metadata": {},
   "outputs": [
    {
     "data": {
      "text/plain": [
       "'cherry'"
      ]
     },
     "execution_count": 10,
     "metadata": {},
     "output_type": "execute_result"
    }
   ],
   "source": [
    "max(list2)"
   ]
  },
  {
   "cell_type": "code",
   "execution_count": 11,
   "id": "eeb1d02b-c2ff-45a2-9da0-78ebc693cd1c",
   "metadata": {},
   "outputs": [
    {
     "data": {
      "text/plain": [
       "'Apple'"
      ]
     },
     "execution_count": 11,
     "metadata": {},
     "output_type": "execute_result"
    }
   ],
   "source": [
    "min(list2)"
   ]
  },
  {
   "cell_type": "code",
   "execution_count": 23,
   "id": "2a47b8e0-221a-415a-bda0-7c673abbd97e",
   "metadata": {},
   "outputs": [
    {
     "data": {
      "text/plain": [
       "[10, 20, 2, 5, 75, 10, 20, 2, 5, 75, 'Apple', 'Cherry', 'cherry']"
      ]
     },
     "execution_count": 23,
     "metadata": {},
     "output_type": "execute_result"
    }
   ],
   "source": [
    "list1+list3"
   ]
  },
  {
   "cell_type": "code",
   "execution_count": 17,
   "id": "d1a1f1b9-8332-4d59-b774-57f2aace5f2c",
   "metadata": {},
   "outputs": [
    {
     "data": {
      "text/plain": [
       "['Apple', 'Banana', 'banana', 'cherry']"
      ]
     },
     "execution_count": 17,
     "metadata": {},
     "output_type": "execute_result"
    }
   ],
   "source": [
    "sorted(list2)"
   ]
  },
  {
   "cell_type": "code",
   "execution_count": 22,
   "id": "a3b86529-a6fd-4327-b476-035e7dfb2a5b",
   "metadata": {},
   "outputs": [
    {
     "data": {
      "text/plain": [
       "<list_reverseiterator at 0x272c8a58f40>"
      ]
     },
     "execution_count": 22,
     "metadata": {},
     "output_type": "execute_result"
    }
   ],
   "source": [
    "l1 =reversed(list3)\n",
    "l1"
   ]
  },
  {
   "cell_type": "code",
   "execution_count": 24,
   "id": "3e80dc2c-f32e-416c-83fa-8834996c7175",
   "metadata": {},
   "outputs": [
    {
     "data": {
      "text/plain": [
       "112"
      ]
     },
     "execution_count": 24,
     "metadata": {},
     "output_type": "execute_result"
    }
   ],
   "source": [
    "sum(list1)"
   ]
  },
  {
   "cell_type": "code",
   "execution_count": 25,
   "id": "0ccac483-f7e2-47ee-ac28-307513e8f24b",
   "metadata": {},
   "outputs": [],
   "source": [
    "#In interview\n",
    "# Q1).sort the list without sorted function\n",
    "# Q2). Find the max value without max functiom\n",
    "# Q3). Find the min value without min function\n",
    "# Q4). Reverse the element with out reverse function\n",
    "# Q5). Sum the elements without using sum function\n",
    "# Q6). Find the secound max and second min"
   ]
  },
  {
   "cell_type": "code",
   "execution_count": 26,
   "id": "c493e85a-257e-491b-8c88-721b640fb3ec",
   "metadata": {},
   "outputs": [
    {
     "data": {
      "text/plain": [
       "[1, 2, 3, 4, 'A', 'B', 'C', 'D']"
      ]
     },
     "execution_count": 26,
     "metadata": {},
     "output_type": "execute_result"
    }
   ],
   "source": [
    "list1 = [1,2,3,4]\n",
    "list2 = ['A','B','C','D']\n",
    "list1+list2"
   ]
  },
  {
   "cell_type": "code",
   "execution_count": 28,
   "id": "2f76f3bc-4af5-4620-a941-6cd324238628",
   "metadata": {},
   "outputs": [
    {
     "data": {
      "text/plain": [
       "[1, 2, 3, 4, 1, 2, 3, 4]"
      ]
     },
     "execution_count": 28,
     "metadata": {},
     "output_type": "execute_result"
    }
   ],
   "source": [
    "list1*2"
   ]
  },
  {
   "cell_type": "code",
   "execution_count": 32,
   "id": "70f16c1e-57f9-4aac-98ee-98d1521b43e0",
   "metadata": {},
   "outputs": [
    {
     "ename": "TypeError",
     "evalue": "unsupported operand type(s) for /: 'list' and 'list'",
     "output_type": "error",
     "traceback": [
      "\u001b[1;31m---------------------------------------------------------------------------\u001b[0m",
      "\u001b[1;31mTypeError\u001b[0m                                 Traceback (most recent call last)",
      "Cell \u001b[1;32mIn[32], line 1\u001b[0m\n\u001b[1;32m----> 1\u001b[0m list1\u001b[38;5;241m/\u001b[39mlist1\n",
      "\u001b[1;31mTypeError\u001b[0m: unsupported operand type(s) for /: 'list' and 'list'"
     ]
    }
   ],
   "source": [
    "list1/"
   ]
  },
  {
   "cell_type": "markdown",
   "id": "13e6ea8d-6d95-4b40-9f5f-a51ebeb5291f",
   "metadata": {},
   "source": [
    "**Index**"
   ]
  },
  {
   "cell_type": "code",
   "execution_count": 34,
   "id": "6a362d01-738b-42b4-8f2c-6f77e6ad6e8b",
   "metadata": {},
   "outputs": [
    {
     "name": "stdout",
     "output_type": "stream",
     "text": [
      "the postive index of 1 is 0\n"
     ]
    }
   ],
   "source": [
    "list1=[1,2,3,4,'A','B','C']\n",
    "l1 = list1.index(1)\n",
    "print(f'the postive index of 1 is {l1}')"
   ]
  },
  {
   "cell_type": "code",
   "execution_count": 44,
   "id": "b91490cc-edc5-4d3d-8e35-742b691f610f",
   "metadata": {},
   "outputs": [
    {
     "name": "stdout",
     "output_type": "stream",
     "text": [
      "The postive number list1 is 1 is 0 \n",
      "The postive number list1 is 2 is 1 \n",
      "The postive number list1 is 3 is 2 \n",
      "The postive number list1 is 4 is 3 \n",
      "The postive number list1 is A is 4 \n",
      "The postive number list1 is B is 5 \n",
      "The postive number list1 is C is 6 \n"
     ]
    }
   ],
   "source": [
    "list1=[1,2,3,4,'A','B','C']\n",
    "for i in range(len(list1)):\n",
    "    print(f\"The postive number list1 is {list1[i]} is {i} \")"
   ]
  },
  {
   "cell_type": "code",
   "execution_count": 47,
   "id": "03927f80-0636-45c3-aec2-3412f5bd6d35",
   "metadata": {},
   "outputs": [
    {
     "name": "stdout",
     "output_type": "stream",
     "text": [
      "The postive number list1 is 1 is -7\n",
      "The postive number list1 is 2 is -6\n",
      "The postive number list1 is 3 is -5\n",
      "The postive number list1 is 4 is -4\n",
      "The postive number list1 is A is -3\n",
      "The postive number list1 is B is -2\n",
      "The postive number list1 is C is -1\n"
     ]
    }
   ],
   "source": [
    "list1=[1,2,3,4,'A','B','C']\n",
    "for i in range(len(list1)):\n",
    "    print(f\"The postive number list1 is {list1[i]} is {i-len(list1)}\")"
   ]
  },
  {
   "cell_type": "code",
   "execution_count": 49,
   "id": "d9e2ad9b-cffc-4a81-9509-0b0f666fe811",
   "metadata": {},
   "outputs": [
    {
     "data": {
      "text/plain": [
       "30"
      ]
     },
     "execution_count": 49,
     "metadata": {},
     "output_type": "execute_result"
    }
   ],
   "source": [
    "list1 = [10,[30]]\n",
    "list1[1][0]"
   ]
  },
  {
   "cell_type": "code",
   "execution_count": 56,
   "id": "529d8c4c-5ec9-4422-9871-eeaa13ce8293",
   "metadata": {},
   "outputs": [
    {
     "data": {
      "text/plain": [
       "'Cherry'"
      ]
     },
     "execution_count": 56,
     "metadata": {},
     "output_type": "execute_result"
    }
   ],
   "source": [
    "list4 = [10,20,30,'A',['Apple','Cherry']]\n",
    "list4[4][1]"
   ]
  },
  {
   "cell_type": "code",
   "execution_count": 73,
   "id": "e0e41b28-2ef3-4855-8c39-9c467908f81e",
   "metadata": {},
   "outputs": [
    {
     "data": {
      "text/plain": [
       "'Dragon fruite'"
      ]
     },
     "execution_count": 73,
     "metadata": {},
     "output_type": "execute_result"
    }
   ],
   "source": [
    "list1 = ['A',['Apple','B',['Banana','c'],['Cherry','D'],['Dragon fruite']]]\n",
    "list1[1][4][0]"
   ]
  },
  {
   "cell_type": "code",
   "execution_count": 83,
   "id": "a9cdbdbb-0df1-417e-a9ab-b18e091b6984",
   "metadata": {},
   "outputs": [
    {
     "data": {
      "text/plain": [
       "'Bat'"
      ]
     },
     "execution_count": 83,
     "metadata": {},
     "output_type": "execute_result"
    }
   ],
   "source": [
    "list1 = ['Apple',['kashmir',['India',['Cricket',['Bat']]]]]\n",
    "list1[1][1][1][1][0]"
   ]
  },
  {
   "cell_type": "markdown",
   "id": "ce09cbc2-3f97-4946-a2cb-9282b969004f",
   "metadata": {},
   "source": [
    "**Range vs In**\n",
    "\n",
    "- When we have use with index then go for range\n",
    "- when we have use with only elements go for in"
   ]
  },
  {
   "cell_type": "markdown",
   "id": "878634da-116d-457f-ad57-622e756ba7f8",
   "metadata": {},
   "source": [
    "**Mutable vs Immutable**"
   ]
  },
  {
   "cell_type": "code",
   "execution_count": 2,
   "id": "c4d64c49-636f-4257-b761-262dcf93f608",
   "metadata": {},
   "outputs": [
    {
     "data": {
      "text/plain": [
       "[1, 2, 6, 4, 5]"
      ]
     },
     "execution_count": 2,
     "metadata": {},
     "output_type": "execute_result"
    }
   ],
   "source": [
    "list1 = [1,2,3,4,5]\n",
    "list1[2] = 6\n",
    "list1"
   ]
  },
  {
   "cell_type": "markdown",
   "id": "621a6bfb-4c48-47a4-b278-a876149cbea0",
   "metadata": {},
   "source": [
    "- List are mutable"
   ]
  },
  {
   "cell_type": "markdown",
   "id": "bd0fe0b2-0801-4b20-a088-6ee38b678668",
   "metadata": {},
   "source": [
    "**Slice**"
   ]
  },
  {
   "cell_type": "code",
   "execution_count": 13,
   "id": "61fd32c1-1491-4308-8b65-87ab39904bc1",
   "metadata": {},
   "outputs": [
    {
     "data": {
      "text/plain": [
       "['banana', 'd', 'b', 50]"
      ]
     },
     "execution_count": 13,
     "metadata": {},
     "output_type": "execute_result"
    }
   ],
   "source": [
    "l1 = [10,20,30,40,50,'a','b','c','d','apple','banana']\n",
    "#l1[:]\n",
    "#l1[::]\n",
    "#l1[::-1]\n",
    "l1[10:2:-2]"
   ]
  },
  {
   "cell_type": "markdown",
   "id": "91d730ab-728d-4715-9fb3-2e887a229005",
   "metadata": {},
   "source": [
    "**methods**\n",
    "\n",
    "- If we wants to know about list methods"
   ]
  },
  {
   "cell_type": "code",
   "execution_count": 14,
   "id": "dfa3c889-94ac-4cc0-9dc1-638c9db5e854",
   "metadata": {},
   "outputs": [
    {
     "data": {
      "text/plain": [
       "['__add__',\n",
       " '__class__',\n",
       " '__class_getitem__',\n",
       " '__contains__',\n",
       " '__delattr__',\n",
       " '__delitem__',\n",
       " '__dir__',\n",
       " '__doc__',\n",
       " '__eq__',\n",
       " '__format__',\n",
       " '__ge__',\n",
       " '__getattribute__',\n",
       " '__getitem__',\n",
       " '__getstate__',\n",
       " '__gt__',\n",
       " '__hash__',\n",
       " '__iadd__',\n",
       " '__imul__',\n",
       " '__init__',\n",
       " '__init_subclass__',\n",
       " '__iter__',\n",
       " '__le__',\n",
       " '__len__',\n",
       " '__lt__',\n",
       " '__mul__',\n",
       " '__ne__',\n",
       " '__new__',\n",
       " '__reduce__',\n",
       " '__reduce_ex__',\n",
       " '__repr__',\n",
       " '__reversed__',\n",
       " '__rmul__',\n",
       " '__setattr__',\n",
       " '__setitem__',\n",
       " '__sizeof__',\n",
       " '__str__',\n",
       " '__subclasshook__',\n",
       " 'append',\n",
       " 'clear',\n",
       " 'copy',\n",
       " 'count',\n",
       " 'extend',\n",
       " 'index',\n",
       " 'insert',\n",
       " 'pop',\n",
       " 'remove',\n",
       " 'reverse',\n",
       " 'sort']"
      ]
     },
     "execution_count": 14,
     "metadata": {},
     "output_type": "execute_result"
    }
   ],
   "source": [
    "dir([])"
   ]
  },
  {
   "cell_type": "code",
   "execution_count": 29,
   "id": "4b483937-c4db-4698-a30f-f76531b42127",
   "metadata": {},
   "outputs": [
    {
     "data": {
      "text/plain": [
       "[12, 32, 43, 23, 54, 23]"
      ]
     },
     "execution_count": 29,
     "metadata": {},
     "output_type": "execute_result"
    }
   ],
   "source": [
    "l1 = [12,32,43,23,54,23]\n",
    "l2=l1.copy()\n",
    "#l1.clear()\n",
    "l2"
   ]
  },
  {
   "cell_type": "code",
   "execution_count": 30,
   "id": "6e361595-8f29-46b8-8258-cf4986e38b11",
   "metadata": {},
   "outputs": [
    {
     "data": {
      "text/plain": [
       "2"
      ]
     },
     "execution_count": 30,
     "metadata": {},
     "output_type": "execute_result"
    }
   ],
   "source": [
    "l1.count(23)"
   ]
  },
  {
   "cell_type": "code",
   "execution_count": 23,
   "id": "0894a21b-7806-4ac2-9b1b-6b32533134c7",
   "metadata": {},
   "outputs": [],
   "source": [
    "l1.clear()"
   ]
  },
  {
   "cell_type": "code",
   "execution_count": 24,
   "id": "747ce396-a8ab-4a89-8eac-fd71d4a02192",
   "metadata": {},
   "outputs": [
    {
     "data": {
      "text/plain": [
       "[]"
      ]
     },
     "execution_count": 24,
     "metadata": {},
     "output_type": "execute_result"
    }
   ],
   "source": [
    "l1"
   ]
  },
  {
   "cell_type": "markdown",
   "id": "94faaa63-bdb8-4501-85db-551b0b9f2466",
   "metadata": {},
   "source": [
    "**append**\n",
    "\n",
    "- append is very important method in the entire list\n",
    "- in our life we will use this method very very frequently\n",
    "- append means adding an element at last"
   ]
  },
  {
   "cell_type": "code",
   "execution_count": 32,
   "id": "a357e856-c989-42c8-bd82-4555c6aacaba",
   "metadata": {},
   "outputs": [
    {
     "data": {
      "text/plain": [
       "['a', 'b', 'c', 'apple']"
      ]
     },
     "execution_count": 32,
     "metadata": {},
     "output_type": "execute_result"
    }
   ],
   "source": [
    "l1 = ['a','b','c']\n",
    "l1.append('apple')\n",
    "l1"
   ]
  },
  {
   "cell_type": "code",
   "execution_count": 33,
   "id": "869ad123-e1d6-41b7-8340-16f91db32ee4",
   "metadata": {},
   "outputs": [
    {
     "data": {
      "text/plain": [
       "['apple', 'banana', 'cherry', 'pineapple', 'pinkapple']"
      ]
     },
     "execution_count": 33,
     "metadata": {},
     "output_type": "execute_result"
    }
   ],
   "source": [
    "l1 = ['apple','banana','cherry']\n",
    "l1.append('pineapple')\n",
    "l1.append('pinkapple')\n",
    "l1"
   ]
  },
  {
   "cell_type": "code",
   "execution_count": 34,
   "id": "73a4d48e-c09c-4cd9-91c0-c3a91c8fa429",
   "metadata": {},
   "outputs": [
    {
     "data": {
      "text/plain": [
       "['apple', 'banana', 'cherry', ['cherry1', 'banana1']]"
      ]
     },
     "execution_count": 34,
     "metadata": {},
     "output_type": "execute_result"
    }
   ],
   "source": [
    "l1 = ['apple','banana','cherry']\n",
    "l1.append(['cherry1','banana1'])\n",
    "l1"
   ]
  },
  {
   "cell_type": "markdown",
   "id": "40d35939-a8e1-41bb-9658-7f67b14f09be",
   "metadata": {},
   "source": [
    "**Case-2**\n",
    "- Append method is used to sotre the outputs"
   ]
  },
  {
   "cell_type": "code",
   "execution_count": 42,
   "id": "f72c724c-ed16-4cae-9373-a83310135fa7",
   "metadata": {},
   "outputs": [
    {
     "name": "stdout",
     "output_type": "stream",
     "text": [
      "[1, 2, 3, 4, 5]\n"
     ]
    }
   ],
   "source": [
    "# For example i want to append a numbers from 1 to 5\n",
    "# l=[1,2,3,4,5]\n",
    "\n",
    "l =[]\n",
    "for i in range(1,6):\n",
    "    l.append(i)\n",
    "print(l)\n"
   ]
  },
  {
   "cell_type": "code",
   "execution_count": 51,
   "id": "f4cbbef2-1702-42eb-bad6-e2bfe6a5fd65",
   "metadata": {},
   "outputs": [
    {
     "name": "stdout",
     "output_type": "stream",
     "text": [
      "32 1024\n",
      "58 3364\n",
      "46 2116\n"
     ]
    }
   ],
   "source": [
    "#wap aks the user enter the 3 random numbers\n",
    "#and perform the square  of the numbers,save those squares in a list\n",
    "\n",
    "import random\n",
    "l = []\n",
    "for i in range(3):\n",
    "    num = random.randint(1,100)\n",
    "    l.append(num)\n",
    "    l1 = num*num\n",
    "    print(f\"{num}\",l1)"
   ]
  },
  {
   "cell_type": "code",
   "execution_count": 68,
   "id": "e1d170af-a2b4-404d-b598-f0dda3897b70",
   "metadata": {},
   "outputs": [
    {
     "name": "stdout",
     "output_type": "stream",
     "text": [
      "[47, 53, 27]\n",
      "[10, 12]\n"
     ]
    }
   ],
   "source": [
    "l=[10,47,53,12,27]\n",
    "eve = []\n",
    "odd = []\n",
    "for i in l:\n",
    "    if i%2==0:\n",
    "        eve.append(i)\n",
    "    elif i%2!=0:\n",
    "        odd.append(i)\n",
    "print(odd)\n",
    "print(eve)"
   ]
  },
  {
   "cell_type": "markdown",
   "id": "d90cf2a2-d25f-46f6-a95f-246c77e790d7",
   "metadata": {},
   "source": [
    "**Extend**"
   ]
  },
  {
   "cell_type": "code",
   "execution_count": 6,
   "id": "92eac4f0-3668-488d-ad29-9f4efe302423",
   "metadata": {},
   "outputs": [
    {
     "data": {
      "text/plain": [
       "[1, 2, 3, 4, 5, 'A', 'B', 'C', 'D']"
      ]
     },
     "execution_count": 6,
     "metadata": {},
     "output_type": "execute_result"
    }
   ],
   "source": [
    "l1 = [1,2,3,4,5]\n",
    "l2 = ['A','B','C','D']\n",
    "l1.extend(l2)\n",
    "l1"
   ]
  },
  {
   "cell_type": "code",
   "execution_count": 10,
   "id": "37431dbb-caf8-47da-a67d-863a29775f9f",
   "metadata": {},
   "outputs": [
    {
     "data": {
      "text/plain": [
       "[1, 2, 3, 4, 5, 6, 'A', 'B', 'C', 'D', 'E']"
      ]
     },
     "execution_count": 10,
     "metadata": {},
     "output_type": "execute_result"
    }
   ],
   "source": [
    "l1 = [1,2,3,4,5,6]\n",
    "l2 = ['A','B','C','D','E']\n",
    "l1+l2"
   ]
  },
  {
   "cell_type": "code",
   "execution_count": 11,
   "id": "7e67215f-ecb5-413d-ad87-c8abd1ed4f49",
   "metadata": {},
   "outputs": [
    {
     "data": {
      "text/plain": [
       "[1, 2, 3, 4, 5, ['A', 'B', 'C', 'D']]"
      ]
     },
     "execution_count": 11,
     "metadata": {},
     "output_type": "execute_result"
    }
   ],
   "source": [
    "l1 = [1,2,3,4,5]\n",
    "l2 = ['A','B','C','D']\n",
    "l1.append(l2)\n",
    "l1"
   ]
  },
  {
   "cell_type": "code",
   "execution_count": 13,
   "id": "c4d9498c-b9be-46d0-a688-b8d6be73b1ba",
   "metadata": {},
   "outputs": [
    {
     "name": "stdout",
     "output_type": "stream",
     "text": [
      "[1, 2, 3, 4, 5, 'A', 'B', 'C', 'D']\n",
      "[1, 2, 3, 4, 5]\n",
      "['A', 'B', 'C', 'D']\n",
      "############################\n",
      "[1, 2, 3, 4, 5, 'A', 'B', 'C', 'D']\n"
     ]
    }
   ],
   "source": [
    "l1 = [1,2,3,4,5]\n",
    "l2 = ['A','B','C','D']\n",
    "print(l1+l2)\n",
    "print(l1)\n",
    "print(l2)\n",
    "print(\"############################\")\n",
    "l1.extend(l2)\n",
    "print(l1)"
   ]
  },
  {
   "cell_type": "markdown",
   "id": "2892723c-fbc2-4f72-9721-582b807ef5be",
   "metadata": {},
   "source": [
    "**Index**\n",
    "- strings we have index and find\n",
    "- but in list we have only index\n",
    "- same as string concept"
   ]
  },
  {
   "cell_type": "code",
   "execution_count": 15,
   "id": "c1572d6e-9ca3-49b2-8f38-ca2bfde92ec9",
   "metadata": {},
   "outputs": [
    {
     "data": {
      "text/plain": [
       "9"
      ]
     },
     "execution_count": 15,
     "metadata": {},
     "output_type": "execute_result"
    }
   ],
   "source": [
    "l1 = [1,2,3,4,5,'A','B','C','D',5,6]\n",
    "n=l1.index(5)\n",
    "n1 = l1.index(5,n+1)\n",
    "n1"
   ]
  },
  {
   "cell_type": "markdown",
   "id": "9c3303c3-1026-4f86-ba61-ffbaa34160ca",
   "metadata": {},
   "source": [
    "**Insert**\n",
    "- difference between append and insert"
   ]
  },
  {
   "cell_type": "code",
   "execution_count": 22,
   "id": "47b76e79-38e7-4cfd-9e12-630d4adb0a32",
   "metadata": {},
   "outputs": [
    {
     "data": {
      "text/plain": [
       "[1, 2, 3, 4, 5, 'A', 'Apple', 'B', 'C', 'D', 5, 6]"
      ]
     },
     "execution_count": 22,
     "metadata": {},
     "output_type": "execute_result"
    }
   ],
   "source": [
    "l1 = [1,2,3,4,5,'A','B','C','D',5,6]\n",
    "n = l1.index('A')\n",
    "n1 = l1.insert(n+1,'Apple')\n",
    "l1"
   ]
  },
  {
   "cell_type": "code",
   "execution_count": 24,
   "id": "b70df660-b7f7-4514-9846-de6e9a097e8a",
   "metadata": {},
   "outputs": [
    {
     "data": {
      "text/plain": [
       "[1, 2, 3, 4, 5, 'A', 'B', 'C', 'D', 5, 6, 'banana']"
      ]
     },
     "execution_count": 24,
     "metadata": {},
     "output_type": "execute_result"
    }
   ],
   "source": [
    "l1 = [1,2,3,4,5,'A','B','C','D',5,6]\n",
    "l1.append(\"banana\")\n",
    "l1"
   ]
  },
  {
   "cell_type": "markdown",
   "id": "5632a8f0-005e-4604-84ca-b98ee08e3a0c",
   "metadata": {},
   "source": [
    "**pop vs remove**"
   ]
  },
  {
   "cell_type": "code",
   "execution_count": 26,
   "id": "59e28dd9-3e4c-4468-bae3-df37e9944c46",
   "metadata": {},
   "outputs": [
    {
     "data": {
      "text/plain": [
       "[1, 2, 3, 4, 5, 'A', 'B', 'C', 'D', 5, 6]"
      ]
     },
     "execution_count": 26,
     "metadata": {},
     "output_type": "execute_result"
    }
   ],
   "source": [
    "l1 = [1, 2, 3, 4, 5, 'A', 'B', 'C', 'D', 5, 6, 'banana']\n",
    "l1.pop()\n",
    "l1"
   ]
  },
  {
   "cell_type": "code",
   "execution_count": 30,
   "id": "bb9022b6-77b3-4395-8cec-c220864b492f",
   "metadata": {},
   "outputs": [
    {
     "data": {
      "text/plain": [
       "[1, 2, 3, 4, 5, 'B', 'C', 'D', 5, 6, 'banana']"
      ]
     },
     "execution_count": 30,
     "metadata": {},
     "output_type": "execute_result"
    }
   ],
   "source": [
    "l1 = [1, 2, 3, 4, 5, 'A', 'B', 'C', 'D', 5, 6, 'banana']\n",
    "l1.pop(5)\n",
    "l1"
   ]
  },
  {
   "cell_type": "code",
   "execution_count": 28,
   "id": "bc48a38b-d244-4ece-bb74-4be01f8bfe91",
   "metadata": {},
   "outputs": [
    {
     "data": {
      "text/plain": [
       "[1, 2, 3, 4, 5, 'B', 'C', 'D', 5, 6, 'banana']"
      ]
     },
     "execution_count": 28,
     "metadata": {},
     "output_type": "execute_result"
    }
   ],
   "source": [
    "l1 = [1, 2, 3, 4, 5, 'A', 'B', 'C', 'D', 5, 6, 'banana']\n",
    "l1.remove('A')\n",
    "l1"
   ]
  },
  {
   "cell_type": "code",
   "execution_count": 32,
   "id": "661be937-712a-48b1-8062-8de89516a285",
   "metadata": {},
   "outputs": [
    {
     "data": {
      "text/plain": [
       "[1, 2, 3, 4, 5, 'B', 'C', 'D', 5, 6, 'banana']"
      ]
     },
     "execution_count": 32,
     "metadata": {},
     "output_type": "execute_result"
    }
   ],
   "source": [
    "l1 = [1, 2, 3, 4, 5, 'A', 'B', 'C', 'D', 5, 6, 'banana']\n",
    "del[l1[5]]\n",
    "l1"
   ]
  },
  {
   "cell_type": "markdown",
   "id": "5b1f98c1-4b2c-432b-825c-f54f00a03dbe",
   "metadata": {},
   "source": [
    "- IF we want delete nay element\n",
    "- pop : based on index\n",
    "- remove : based on value\n",
    "- del is an inbuilt function"
   ]
  },
  {
   "cell_type": "code",
   "execution_count": 33,
   "id": "f3797549-4a50-4cfb-b6eb-2abe3beec433",
   "metadata": {},
   "outputs": [
    {
     "ename": "NameError",
     "evalue": "name 'l1' is not defined",
     "output_type": "error",
     "traceback": [
      "\u001b[1;31m---------------------------------------------------------------------------\u001b[0m",
      "\u001b[1;31mNameError\u001b[0m                                 Traceback (most recent call last)",
      "Cell \u001b[1;32mIn[33], line 3\u001b[0m\n\u001b[0;32m      1\u001b[0m l1 \u001b[38;5;241m=\u001b[39m [\u001b[38;5;241m1\u001b[39m, \u001b[38;5;241m2\u001b[39m, \u001b[38;5;241m3\u001b[39m, \u001b[38;5;241m4\u001b[39m, \u001b[38;5;241m5\u001b[39m, \u001b[38;5;124m'\u001b[39m\u001b[38;5;124mA\u001b[39m\u001b[38;5;124m'\u001b[39m, \u001b[38;5;124m'\u001b[39m\u001b[38;5;124mB\u001b[39m\u001b[38;5;124m'\u001b[39m, \u001b[38;5;124m'\u001b[39m\u001b[38;5;124mC\u001b[39m\u001b[38;5;124m'\u001b[39m, \u001b[38;5;124m'\u001b[39m\u001b[38;5;124mD\u001b[39m\u001b[38;5;124m'\u001b[39m, \u001b[38;5;241m5\u001b[39m, \u001b[38;5;241m6\u001b[39m, \u001b[38;5;124m'\u001b[39m\u001b[38;5;124mbanana\u001b[39m\u001b[38;5;124m'\u001b[39m]\n\u001b[0;32m      2\u001b[0m \u001b[38;5;28;01mdel\u001b[39;00m[l1]\n\u001b[1;32m----> 3\u001b[0m l1\n",
      "\u001b[1;31mNameError\u001b[0m: name 'l1' is not defined"
     ]
    }
   ],
   "source": [
    "l1 = [1, 2, 3, 4, 5, 'A', 'B', 'C', 'D', 5, 6, 'banana']\n",
    "del[l1]\n",
    "l1"
   ]
  },
  {
   "cell_type": "markdown",
   "id": "efb51f22-43c5-4383-90fb-1cca7fdee3ac",
   "metadata": {},
   "source": [
    "**reverse-reversed**\n",
    "\n",
    "- reverse is a method\n",
    "- reversed is an inbuilt function"
   ]
  },
  {
   "cell_type": "markdown",
   "id": "fbb38d08-db74-4bac-9069-650403fa864d",
   "metadata": {},
   "source": [
    "**in place**\n",
    "\n",
    "- when we perfrom the operation some time the values will not overwrite\n",
    "- if we see inplace word or inplace = Ture\n",
    "- this indicates the outout will be overwrite in correponding variable"
   ]
  },
  {
   "cell_type": "code",
   "execution_count": 35,
   "id": "d1f13250-23ac-448a-934d-9e3db94f12a8",
   "metadata": {},
   "outputs": [
    {
     "data": {
      "text/plain": [
       "[5, 4, 3, 2, 1]"
      ]
     },
     "execution_count": 35,
     "metadata": {},
     "output_type": "execute_result"
    }
   ],
   "source": [
    "l1 = [1,2,3,4,5]\n",
    "l1.reverse()\n",
    "l1"
   ]
  },
  {
   "cell_type": "code",
   "execution_count": 45,
   "id": "ac3326d3-1ac4-4f0d-a7d3-f7f5baa6d0b2",
   "metadata": {},
   "outputs": [
    {
     "name": "stdout",
     "output_type": "stream",
     "text": [
      "[50, 39, 50, 20]\n"
     ]
    }
   ],
   "source": [
    "l1 = [20,50,39,50]\n",
    "a=reversed(l1)\n",
    "print(list(a))"
   ]
  },
  {
   "cell_type": "markdown",
   "id": "c8af5ab9-74cd-4e58-9fe6-61f10e99260e",
   "metadata": {},
   "source": [
    "**sorted-sort**"
   ]
  },
  {
   "cell_type": "code",
   "execution_count": 38,
   "id": "04438011-733a-4f31-8f11-a941cacbcfe7",
   "metadata": {},
   "outputs": [
    {
     "data": {
      "text/plain": [
       "[10, 20, 30, 40, 80]"
      ]
     },
     "execution_count": 38,
     "metadata": {},
     "output_type": "execute_result"
    }
   ],
   "source": [
    "l1 = [20,10,80,40,30]\n",
    "l1.sort()\n",
    "l1"
   ]
  },
  {
   "cell_type": "code",
   "execution_count": 39,
   "id": "06542b0a-f9f4-4f43-992c-04b490878112",
   "metadata": {},
   "outputs": [
    {
     "data": {
      "text/plain": [
       "[10, 20, 30, 40, 80]"
      ]
     },
     "execution_count": 39,
     "metadata": {},
     "output_type": "execute_result"
    }
   ],
   "source": [
    "l1 = [20,10,80,40,30]\n",
    "sorted(l1)"
   ]
  },
  {
   "cell_type": "markdown",
   "id": "8dbd0172-92e4-47db-a480-0d4723ab482b",
   "metadata": {},
   "source": [
    "**List comprehension**"
   ]
  },
  {
   "cell_type": "markdown",
   "id": "23371930-30a5-49bf-af7f-e514bf7eebd0",
   "metadata": {},
   "source": [
    "##List comprehension\n",
    "\n",
    "- List comprehension a way to write list operations in a single line\n",
    "- when we apply for loop and if-else condition statement then the code compilation becomes slow\n",
    "- which means it takes much time\n",
    "- in order to avoid the time complexity we will use list comprehension\n",
    "- list comprehension is a single line code"
   ]
  },
  {
   "cell_type": "markdown",
   "id": "3c1cd47a-5b06-4638-b786-bf88fae4b9a4",
   "metadata": {},
   "source": [
    "**Case-1 Only for loop**"
   ]
  },
  {
   "cell_type": "code",
   "execution_count": 2,
   "id": "b4c7c96c-9260-4895-ae61-326a5e5f677c",
   "metadata": {},
   "outputs": [
    {
     "data": {
      "text/plain": [
       "[0, 1, 2, 3, 4, 5, 6, 7, 8, 9]"
      ]
     },
     "execution_count": 2,
     "metadata": {},
     "output_type": "execute_result"
    }
   ],
   "source": [
    "list1 = []\n",
    "for i in range(10):\n",
    "    list1.append(i)\n",
    "list1"
   ]
  },
  {
   "cell_type": "code",
   "execution_count": 3,
   "id": "a481229a-7a61-4ada-b03d-9000d7eed438",
   "metadata": {},
   "outputs": [
    {
     "data": {
      "text/plain": [
       "[0, 1, 2, 3, 4, 5, 6, 7, 8, 9]"
      ]
     },
     "execution_count": 3,
     "metadata": {},
     "output_type": "execute_result"
    }
   ],
   "source": [
    "list1 = [i for i in range(10)]\n",
    "list1"
   ]
  },
  {
   "cell_type": "code",
   "execution_count": 4,
   "id": "9167b177-adde-4450-9f7e-7f3267a1eba0",
   "metadata": {},
   "outputs": [
    {
     "data": {
      "text/plain": [
       "['Hyd', 'Bangaluru', 'Mumbai', 'Pune']"
      ]
     },
     "execution_count": 4,
     "metadata": {},
     "output_type": "execute_result"
    }
   ],
   "source": [
    "l1 = ['hyd','bangaluru','mumbai','pune']\n",
    "l2 = [i.title() for i in l1 ]\n",
    "l2"
   ]
  },
  {
   "cell_type": "code",
   "execution_count": 5,
   "id": "3ba29c1c-eb7e-4de0-bbcc-9eee9cb9b1c7",
   "metadata": {},
   "outputs": [
    {
     "data": {
      "text/plain": [
       "['HYD', 'BANGALURU', 'MUMBAI', 'PUNE']"
      ]
     },
     "execution_count": 5,
     "metadata": {},
     "output_type": "execute_result"
    }
   ],
   "source": [
    "l1 = ['hyd','bangaluru','mumbai','pune']\n",
    "l2 = [i.upper() for i in l1]\n",
    "l2"
   ]
  },
  {
   "cell_type": "code",
   "execution_count": 9,
   "id": "5f17d8ab-234e-40ef-9787-effc3e707319",
   "metadata": {},
   "outputs": [
    {
     "data": {
      "text/plain": [
       "[0, 10, 20, 30]"
      ]
     },
     "execution_count": 9,
     "metadata": {},
     "output_type": "execute_result"
    }
   ],
   "source": [
    "l1 = ['hyd','bangaluru','mumbai','pune']\n",
    "l2 = [l1.index(i)*10 for i in l1]\n",
    "l2"
   ]
  },
  {
   "cell_type": "code",
   "execution_count": 29,
   "id": "ae1fe800-9091-4ce8-88a3-bf73b8d9acd9",
   "metadata": {},
   "outputs": [
    {
     "data": {
      "text/plain": [
       "6"
      ]
     },
     "execution_count": 29,
     "metadata": {},
     "output_type": "execute_result"
    }
   ],
   "source": [
    "l1 = ['hyd','bangaluru','mumbai','pune']\n",
    "l2 = 0\n",
    "[l2:=l2+i for i in range(len(l1))]\n",
    "l2"
   ]
  },
  {
   "cell_type": "markdown",
   "id": "2f616840-9e30-4446-be54-faaac1b36407",
   "metadata": {},
   "source": [
    "**Case-2: for loop if condition**"
   ]
  },
  {
   "cell_type": "code",
   "execution_count": 35,
   "id": "e157d3dd-2464-44d6-ba55-c460c6204980",
   "metadata": {},
   "outputs": [
    {
     "data": {
      "text/plain": [
       "['even:2', 'even:4', 'even:6', 'even:8']"
      ]
     },
     "execution_count": 35,
     "metadata": {},
     "output_type": "execute_result"
    }
   ],
   "source": [
    "even_list = []\n",
    "[f\"even:{i}\" for i in range(1,10) if i%2==0]\n"
   ]
  },
  {
   "cell_type": "code",
   "execution_count": 37,
   "id": "eed0b548-86be-43bc-ac81-d24cb5e6f5a4",
   "metadata": {},
   "outputs": [
    {
     "data": {
      "text/plain": [
       "['bang#aluru', 'mum#bai']"
      ]
     },
     "execution_count": 37,
     "metadata": {},
     "output_type": "execute_result"
    }
   ],
   "source": [
    "l1 = ['hyd','bang#aluru','mum#bai','pune']\n",
    "[i for i in l1 if '#'in i]"
   ]
  },
  {
   "cell_type": "code",
   "execution_count": 38,
   "id": "a6510687-e28b-472d-be9b-da868e9fe103",
   "metadata": {},
   "outputs": [
    {
     "data": {
      "text/plain": [
       "['hyd', 'pune']"
      ]
     },
     "execution_count": 38,
     "metadata": {},
     "output_type": "execute_result"
    }
   ],
   "source": [
    "l1 = ['hyd','bang#aluru','mum#bai','pune']\n",
    "[i for i in l1 if '#'not in i]"
   ]
  },
  {
   "cell_type": "code",
   "execution_count": null,
   "id": "1f4404e4-d517-4431-b44a-ec043962c3b5",
   "metadata": {},
   "outputs": [],
   "source": [
    "Case - 1 for loop:[<output><for loop>]\n",
    "Case - 2 for-if:[<output><for loop><if condi>]\n",
    "Case - 3 for-if-else:[<if out><if condi> else<else out><>]"
   ]
  },
  {
   "cell_type": "code",
   "execution_count": 55,
   "id": "85f76640-6cbd-45cf-b0b6-841cc52dacca",
   "metadata": {},
   "outputs": [
    {
     "data": {
      "text/plain": [
       "['even:2', 'even:4', 'even:6']"
      ]
     },
     "execution_count": 55,
     "metadata": {},
     "output_type": "execute_result"
    }
   ],
   "source": [
    "l1 = [1,2,3,4,5,6]\n",
    "[f\"even:{l1[i]}\"  for i in range(len(l1))  if l1[i]%2 == 0]"
   ]
  },
  {
   "cell_type": "code",
   "execution_count": 3,
   "id": "3fe4d9a1-dcd6-4327-830d-ccce732fdda6",
   "metadata": {},
   "outputs": [
    {
     "data": {
      "text/plain": [
       "[76, 89, 53, 67, 90, 82, 99]"
      ]
     },
     "execution_count": 3,
     "metadata": {},
     "output_type": "execute_result"
    }
   ],
   "source": [
    "l1 =[45,76,89,53,67,90,82,49,33,99]\n",
    "[ i for i in l1 if i >=50]"
   ]
  },
  {
   "cell_type": "code",
   "execution_count": 26,
   "id": "0d210b21-a363-4476-8bc3-31a9d2aeed05",
   "metadata": {},
   "outputs": [
    {
     "data": {
      "text/plain": [
       "['45 :F grade',\n",
       " '76 :B grade',\n",
       " '89 :A grade',\n",
       " '53 :C grad',\n",
       " '67 :C grad',\n",
       " '90 :A grade',\n",
       " '82 :B grade',\n",
       " '49 :F grade',\n",
       " '33 :F grade',\n",
       " '99 :A grade']"
      ]
     },
     "execution_count": 26,
     "metadata": {},
     "output_type": "execute_result"
    }
   ],
   "source": [
    "[f'{i} :A grade' if i >=85 else f'{i} :B grade' if i >=70 else f'{i} :C grad' if i>=50 else f'{i} :F grade'  for i in l1]"
   ]
  },
  {
   "cell_type": "code",
   "execution_count": 27,
   "id": "c1c4fd28-9875-4e5e-809f-e62bc331c745",
   "metadata": {},
   "outputs": [
    {
     "data": {
      "text/plain": [
       "[50, 54, 38]"
      ]
     },
     "execution_count": 27,
     "metadata": {},
     "output_type": "execute_result"
    }
   ],
   "source": [
    "[i+5 for i in l1 if i <50]"
   ]
  },
  {
   "cell_type": "code",
   "execution_count": 29,
   "id": "4a6ba936-4973-4d96-9a8c-fcc2f385aad5",
   "metadata": {},
   "outputs": [
    {
     "ename": "SyntaxError",
     "evalue": "invalid syntax (639966770.py, line 2)",
     "output_type": "error",
     "traceback": [
      "\u001b[1;36m  Cell \u001b[1;32mIn[29], line 2\u001b[1;36m\u001b[0m\n\u001b[1;33m    [max_val for i in range(3) max_val = max(l1) i.remove(max_val)]\u001b[0m\n\u001b[1;37m                               ^\u001b[0m\n\u001b[1;31mSyntaxError\u001b[0m\u001b[1;31m:\u001b[0m invalid syntax\n"
     ]
    }
   ],
   "source": [
    "l1 =[45,76,89,53,67,90,82,49,33,99]\n",
    "[max_val for i in range(3) max_val = max(l1) i.remove(max_val)]"
   ]
  },
  {
   "cell_type": "markdown",
   "id": "f8ea9a95-7612-4bd1-831b-6ff396b35640",
   "metadata": {},
   "source": [
    "**distance between two points**"
   ]
  },
  {
   "cell_type": "code",
   "execution_count": 45,
   "id": "5e82af97-0412-43d5-b7b7-2a57eb1b9ec4",
   "metadata": {
    "scrolled": true
   },
   "outputs": [
    {
     "data": {
      "text/plain": [
       "20.12461179749811"
      ]
     },
     "execution_count": 45,
     "metadata": {},
     "output_type": "execute_result"
    }
   ],
   "source": [
    "l1 = [[1,2],[4,5],[7,9]]\n",
    "l2 = [10,20]\n",
    "#find the distance between l2 with all other points from l1\n",
    "#which is the maximum distance give me that \n",
    "\n",
    "d1 = (l2[0]-l1[0][0])**2\n",
    "d2 = (l2[1] - l1[0][1])**2\n",
    "d3 =(d1+d2)**(1/2)\n",
    "d3\n",
    "c1 = (l2[0]-l1[1][0])**2\n",
    "c2 = (l2[1]-l1[1][1])**2\n",
    "c = (c1+c2)**(1/2)\n",
    "c\n",
    "a1 = (l2[0]-l1[2][0])**2\n",
    "a2 = (l2[1]-l1[2][1])**2\n",
    "a =(a1+a2)**(1/2)\n",
    "a\n",
    "\n",
    "max(d3,c,a)\n"
   ]
  },
  {
   "cell_type": "code",
   "execution_count": 46,
   "id": "f19d5a2f-7ae1-4ae6-aac4-686be01a8fda",
   "metadata": {},
   "outputs": [
    {
     "name": "stdout",
     "output_type": "stream",
     "text": [
      "Ramesh and age 20\n",
      "Suresh and age 25\n",
      "Sathish and age 30\n"
     ]
    }
   ],
   "source": [
    "name = ['Ramesh','Suresh','Sathish']\n",
    "age = [20,25,30]\n",
    "for i in range(len(name)):\n",
    "    print(f\"{name[i]} and age {age[i]}\")"
   ]
  },
  {
   "cell_type": "markdown",
   "id": "6e142d05-34ec-48e7-b6d7-14aad7b72436",
   "metadata": {},
   "source": [
    "**Zip**"
   ]
  },
  {
   "cell_type": "code",
   "execution_count": 48,
   "id": "4ff7ff01-b00f-448f-b649-1c94af5bdbab",
   "metadata": {},
   "outputs": [
    {
     "name": "stdout",
     "output_type": "stream",
     "text": [
      "Ramesh and age 20\n",
      "Suresh and age 25\n",
      "Sathish and age 30\n"
     ]
    }
   ],
   "source": [
    "name = ['Ramesh','Suresh','Sathish']\n",
    "age = [20,25,30]\n",
    "for i,j in zip(name,age):\n",
    "    print(f\"{i} and age {j}\")"
   ]
  },
  {
   "cell_type": "code",
   "execution_count": 11,
   "id": "d26b3194-47a2-4a14-a9cb-ac7aaee9d5c6",
   "metadata": {},
   "outputs": [
    {
     "name": "stdout",
     "output_type": "stream",
     "text": [
      "[2, 4, 12, 22, 23, 23, 66, 84, 232, 545, 554, 656, 2389, 4433]\n"
     ]
    }
   ],
   "source": [
    "# how to sort the list\n",
    "\n",
    "l1 = [2,84,4,23,545,66,22,4433,12,554,2389,232,23,656]\n",
    "\n",
    "for i in range(len(l1)):\n",
    "    for j in range(i+1,len(l1)):\n",
    "        if l1[i]>l1[j]:\n",
    "            l1[i],l1[j]=l1[j],l1[i]\n",
    "print(l1)"
   ]
  },
  {
   "cell_type": "code",
   "execution_count": 18,
   "id": "319b5283-3ca9-494c-ab0d-808fbd683325",
   "metadata": {},
   "outputs": [
    {
     "name": "stdout",
     "output_type": "stream",
     "text": [
      "4433\n"
     ]
    }
   ],
   "source": [
    "# how to find the maximum value of the list\n",
    "l1 = [2,84,4,23,545,66,22,4433,12,554,2389,232,23,656]\n",
    "\n",
    "for i in range(len(l1)):\n",
    "    for j in range(i+1,len(l1)):\n",
    "        if l1[i]>l1[j]:\n",
    "            l1[j]=l1[i]\n",
    "print(l1[i])"
   ]
  },
  {
   "cell_type": "code",
   "execution_count": 19,
   "id": "56cab3ba-2e1c-458e-a150-94033990c250",
   "metadata": {},
   "outputs": [
    {
     "name": "stdout",
     "output_type": "stream",
     "text": [
      "2\n"
     ]
    }
   ],
   "source": [
    "# how to find the minimum value of the list\n",
    "\n",
    "l1 = [2,84,4,23,545,66,22,4433,12,554,2389,232,23,656]\n",
    "\n",
    "for i in range(len(l1)):\n",
    "    for j in range(i+1,len(l1)):\n",
    "        if l1[i]<l1[j]:\n",
    "            l1[j]=l1[i]\n",
    "print(l1[i])"
   ]
  },
  {
   "cell_type": "code",
   "execution_count": 62,
   "id": "e5a0d2ea-104a-481f-91ff-284fca19282b",
   "metadata": {},
   "outputs": [
    {
     "name": "stdout",
     "output_type": "stream",
     "text": [
      "2389\n"
     ]
    }
   ],
   "source": [
    "# how to find the second maximum value of the list\n",
    "\n",
    "li1 = [2,84,4,23,545,66,22,4433,12,554,2389,232,23,656]\n",
    "li2 = 0\n",
    "li3 = 0\n",
    "for i in li1:\n",
    "    if i >li2:\n",
    "        li3=li2\n",
    "        li2=i\n",
    "    elif i >li3 and i !=li2:\n",
    "        li3 = i\n",
    "print(li3)"
   ]
  },
  {
   "cell_type": "code",
   "execution_count": 1,
   "id": "21dd953b-5fe0-4e06-9d90-b3304e66d44b",
   "metadata": {},
   "outputs": [
    {
     "name": "stdout",
     "output_type": "stream",
     "text": [
      "12\n",
      "1\n"
     ]
    }
   ],
   "source": [
    "# how to find the second minimum value of the list\n",
    "\n",
    "li1 = [84,4,23,545,1,66,22,4433,12,554,2389,232,656]\n",
    "li2 = li1[0]\n",
    "li3 = li1[0]\n",
    "for i in li1:\n",
    "    if i < li2:\n",
    "        li2=li3\n",
    "        li3=i\n",
    "    elif i < li3 and i !=li2:\n",
    "        li3 = i\n",
    "print(li3)\n",
    "print(li2)"
   ]
  },
  {
   "cell_type": "code",
   "execution_count": null,
   "id": "b94bfe78-4f61-4f99-8172-0f286f2a3e24",
   "metadata": {},
   "outputs": [],
   "source": []
  },
  {
   "cell_type": "code",
   "execution_count": null,
   "id": "d9ae679d-8597-42c0-92a0-4c5866e579d0",
   "metadata": {},
   "outputs": [],
   "source": []
  }
 ],
 "metadata": {
  "kernelspec": {
   "display_name": "Python 3 (ipykernel)",
   "language": "python",
   "name": "python3"
  },
  "language_info": {
   "codemirror_mode": {
    "name": "ipython",
    "version": 3
   },
   "file_extension": ".py",
   "mimetype": "text/x-python",
   "name": "python",
   "nbconvert_exporter": "python",
   "pygments_lexer": "ipython3",
   "version": "3.12.4"
  }
 },
 "nbformat": 4,
 "nbformat_minor": 5
}
